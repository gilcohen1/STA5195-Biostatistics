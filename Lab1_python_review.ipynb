{
  "nbformat": 4,
  "nbformat_minor": 0,
  "metadata": {
    "colab": {
      "name": "Lab1.ipynb",
      "provenance": [],
      "collapsed_sections": []
    },
    "kernelspec": {
      "name": "python3",
      "display_name": "Python 3"
    }
  },
  "cells": [
    {
      "cell_type": "code",
      "metadata": {
        "id": "1_pXcYUYknh6",
        "colab_type": "code",
        "colab": {}
      },
      "source": [
        "#Prints the Words \"Hello World\" \n",
        "print(\"Hello World\")"
      ],
      "execution_count": null,
      "outputs": []
    },
    {
      "cell_type": "code",
      "metadata": {
        "id": "S6q3cLaKPu22",
        "colab_type": "code",
        "colab": {}
      },
      "source": [
        "userAge, userName = 30, 'Peter'\n",
        "#This is equivalent to:\n",
        "#userAge = 30\n",
        "#userName = ‘Peter’\n",
        "\n",
        "#camel case: thisIsAVariableName\n",
        "\n",
        "x = 5\n",
        "y = 10\n",
        "x = y\n",
        "print (\"x = \", x)\n",
        "print (\"y = \", y)\n",
        "\n",
        "x = 5\n",
        "y = 10\n",
        "y = x\n",
        "print (\"x = \", x)\n",
        "print (\"y = \", y)"
      ],
      "execution_count": null,
      "outputs": []
    },
    {
      "cell_type": "code",
      "metadata": {
        "id": "e5iuWxznTiM4",
        "colab_type": "code",
        "colab": {}
      },
      "source": [
        "x, y = 5, 2\n",
        "print(x / y) #division\n",
        "print(x // y) #floor division\n",
        "print(x % y) #modulus\n",
        "print(x ** y) #exponent\n",
        "x += 5\n",
        "print(x)"
      ],
      "execution_count": null,
      "outputs": []
    },
    {
      "cell_type": "code",
      "metadata": {
        "id": "4BbX4-MQU4MA",
        "colab_type": "code",
        "colab": {}
      },
      "source": [
        "userAge, mobileNumber = 20, 12398724  #declaring integers\n",
        "userHeight, userWeight = 1.82, 67.2   #declaring floats\n",
        "userName, userSpouseName, vuserAge = 'Peter', \"Janet\", '30' #declaring strings\n",
        "\"Peter\" + \"Lee\" #concatenate sign + to combine strings\n",
        "\"Peter\".upper() #built in string function to capitalize all leters in the string"
      ],
      "execution_count": null,
      "outputs": []
    },
    {
      "cell_type": "code",
      "metadata": {
        "id": "Y5fYtVMqVrHk",
        "colab_type": "code",
        "colab": {}
      },
      "source": [
        "#Formatting Strings using the % Operator and format method\n",
        "brand = 'Apple'\n",
        "exchangeRate = 1.235235245\n",
        "message = 'The price of this %s laptop is %d USD and the exchange rate is %4.2f USD to 1 EUR' % (brand, 1299, exchangeRate)\n",
        "print (message)\n",
        "\n",
        "message = 'The price of this {0:s} laptop is {1:d} USD and the exchange rate is {2:4.2f} USD to 1 EUR'.format('Apple', 1299, 1.235235245)\n",
        "print(message)\n",
        "\n",
        "#no formatting\n",
        "message = 'The price of this {} laptop is {} USD and the exchange rate is {} USD to 1 EUR'.format('Apple', 1299, 1.235235245)\n",
        "print(message)"
      ],
      "execution_count": null,
      "outputs": []
    },
    {
      "cell_type": "code",
      "metadata": {
        "id": "e_9I1gavXRht",
        "colab_type": "code",
        "colab": {}
      },
      "source": [
        "#format method examples\n",
        "message1 = '{0} is easier than {1}'.format('Python', 'Java')\n",
        "message2 = '{1} is easier than {0}'.format('Python', 'Java')\n",
        "message3 = '{:10.2f} and {:d}'.format(1.234234234, 12)\n",
        "message4 = '{}'.format(1.234234234)\n",
        "print(message1)\n",
        "print(message2)\n",
        "print(message3)\n",
        "print(message4)"
      ],
      "execution_count": null,
      "outputs": []
    },
    {
      "cell_type": "code",
      "metadata": {
        "id": "q3R_k0SyY_NM",
        "colab_type": "code",
        "colab": {}
      },
      "source": [
        "#type casting\n",
        "int(5.712987), int(\"5\")\n",
        "#int(\"4.22321\") and int(\"Hello\") gives an error\n",
        "float(\"2.09109\"), float(2)\n",
        "str(2.1)"
      ],
      "execution_count": null,
      "outputs": []
    },
    {
      "cell_type": "code",
      "metadata": {
        "id": "kAc5g-o-Ztxm",
        "colab_type": "code",
        "colab": {}
      },
      "source": [
        "#Lists\n",
        "\n",
        "userAge = [21, 22, 23, 24, 25]\n",
        "userAge2 = userAge\n",
        "userAge3 = userAge[2:4] # 2:4 slice notation includes 2 through 4-1, prints [23, 24]\n",
        "userAge4 = userAge[1:5:2] # 2 is the stepper parameter, prints [22,24]\n",
        "userAge[1] = 5 #userAge becomes [21, 5, 23, 24, 25]\n",
        "userAge.append(99) #userAge becomes [21, 5, 23, 24, 25, 99]\n",
        "del userAge[2] #userAge becomes [21, 5, 24, 25, 99]\n",
        "\n",
        "#declaring the list, list elements can be of different data types\n",
        "myList = [1, 2, 3, 4, 5, \"Hello\"]\n",
        "#print the entire list.\n",
        "print(myList) #You’ll get [1, 2, 3, 4, 5, “Hello”]\n",
        "#print the third item (recall: Index starts from zero).\n",
        "print(myList[2]) #You’ll get 3\n",
        "#print the last item.\n",
        "print(myList[-1]) #You’ll get “Hello”\n",
        "#assign myList (from index 1 to 4) to myList2 and print myList2\n",
        "myList2 = myList[1:5]\n",
        "print (myList2) #You’ll get [2, 3, 4, 5]\n",
        "#modify the second item in myList and print the updated list\n",
        "myList[1] = 20\n",
        "print(myList) #You’ll get [1, 20, 3, 4, 5, 'Hello']\n",
        "#append a new item to myList and print the updated list\n",
        "myList.append(\"How are you\")\n",
        "print(myList) #You’ll get [1, 20, 3, 4, 5, 'Hello', 'How are you']\n",
        "#remove the sixth item from myList and print the updated list\n",
        "del myList[5]\n",
        "print(myList) #You’ll get [1, 20, 3, 4, 5, 'How are you']"
      ],
      "execution_count": null,
      "outputs": []
    },
    {
      "cell_type": "code",
      "metadata": {
        "id": "xgxVkh-rce1k",
        "colab_type": "code",
        "colab": {}
      },
      "source": [
        "#tuples are immutable\n",
        "monthsOfYear = (\"Jan\", \"Feb\", \"Mar\", \"Apr\", \"May\",\"Jun\", \"Jul\", \"Aug\", \"Sep\", \"Oct\", \"Nov\", \"Dec\")\n",
        "\n",
        "#A dictionary is a collection of related data pairs, keys must be unique\n",
        "userNameAndAge = {\"Peter\":38, \"John\":51,\"Alex\":13, \"Alvin\":\"Not Available\"} \n",
        "#declaring dictionary with dict method\n",
        "userNameAndAge = dict(Peter = 38, John = 51, Alex= 13, Alvin = \"Not Available\") #() instead of {} and keys not in quotations\n",
        "#accessing\n",
        "userNameAndAge[\"John\"] #will output 51\n",
        "#modifyinng\n",
        "userNameAndAge[\"John\"] = 21 #dictionary becomes  {“Peter”:38, “John”:21, “Alex”:13, “Alvin”:“Not Available”}\n",
        "#adding \"Joe\":40 to dictionary\n",
        "userNameAndAge[\"Joe\"] = 40\n",
        "\n",
        "#declaring the dictionary, dictionary keys and data can be of different data types\n",
        "myDict = {\"One\":1.35, 2.5:\"Two Point Five\", 3:\"+\", 7.9:2}\n",
        "#print the entire dictionary\n",
        "print(myDict) #You’ll get {2.5:'Two Point Five', 3:'+', 'One':1.35, 7.9:2}\n",
        "#Note that items in a dictionary are not stored in the same order as the way you declare them.\n",
        "#print the item with key = “One”.\n",
        "print(myDict[\"One\"]) #You’ll get 1.35\n",
        "#print the item with key = 7.9.\n",
        "print(myDict[7.9]) #You’ll get 2\n",
        "#modify the item with key = 2.5 and print the updated dictionary\n",
        "myDict[2.5] = \"Two and a Half\"\n",
        "print(myDict) #You’ll get {2.5: 'Two and a Half', 3: '+', 'One':1.35, 7.9: 2}\n",
        "\n",
        "#add a new item and print the updated dictionary\n",
        "myDict[\"New item\"] = \"I’m new\"\n",
        "print(myDict) #You’ll get {'New item': 'I’m new', 2.5: 'Two and a Half', 3: '+', 'One': 1.35, 7.9: 2}\n",
        "#remove the item with key = “One” and print the updated dictionary\n",
        "del myDict[\"One\"]\n",
        "print(myDict) #You’ll get {'New item': 'I’m new', 2.5: 'Two and a Half', 3: '+', 7.9: 2}\n"
      ],
      "execution_count": null,
      "outputs": []
    },
    {
      "cell_type": "code",
      "metadata": {
        "id": "U5l4LL9jgfmG",
        "colab_type": "code",
        "colab": {}
      },
      "source": [
        "#using input function to get user's name and age and store them in myName and myAge\n",
        "myName = input(\"Please enter your name: \") \n",
        "myAge = input(\"What about your age: \")\n",
        "#3 different ways to print a statement containing the user's name and age\n",
        "print(\"Hello World, my name is\", myName, \"and I am\", myAge, \"years old.\")\n",
        "print(\"Hello World, my name is %s and I am %s years old.\" % (myName, myAge))\n",
        "print (\"Hello World, my name is {} and I am {} years old.\".format(myName, myAge))"
      ],
      "execution_count": null,
      "outputs": []
    },
    {
      "cell_type": "code",
      "metadata": {
        "id": "6ikVszVXkInV",
        "colab_type": "code",
        "colab": {}
      },
      "source": [
        "#triple quotes to span string over multiple lines\n",
        "print (\"\"\"Hello World. \n",
        "My name is James and \n",
        "I am 20 years old.\"\"\")"
      ],
      "execution_count": null,
      "outputs": []
    },
    {
      "cell_type": "code",
      "metadata": {
        "id": "qk5PS7kTmWxr",
        "colab_type": "code",
        "colab": {}
      },
      "source": [
        "print('Hello\\tWorld') #\\t prints a tab\n",
        "print('Hello\\nWorld') #\\n prints a new line\n",
        "print('\\\\') #\\\\ prints the backslash character itself\n",
        "print('I am 5\\'9\\\" tall') #\\' prints single quote, \\\" prints double quote\n",
        "print(r'Hello\\tWorld') #r before first quote prints raw string\n"
      ],
      "execution_count": null,
      "outputs": []
    },
    {
      "cell_type": "code",
      "metadata": {
        "id": "3Rr6z4Op8mUG",
        "colab_type": "code",
        "colab": {}
      },
      "source": [
        "#If statement\n",
        "userInput = input('Enter 1 or 2: ')\n",
        "if userInput == \"1\":\n",
        "  print (\"Hello World\")\n",
        "  print (\"How are you?\")\n",
        "elif userInput == \"2\":\n",
        "  print (\"Python Rocks!\")\n",
        "  print (\"I love Python\")\n",
        "else:\n",
        "  print (\"You did not enter a valid number\")"
      ],
      "execution_count": null,
      "outputs": []
    },
    {
      "cell_type": "code",
      "metadata": {
        "id": "TjQt39PL-aNN",
        "colab_type": "code",
        "colab": {}
      },
      "source": [
        "#inline if statement\n",
        "myInt = int(input())\n",
        "num1 = 12 if myInt==10 else 13\n",
        "print(num1)\n",
        "print (\"This is task A\" if myInt == 10 else \"This is task B\")"
      ],
      "execution_count": null,
      "outputs": []
    },
    {
      "cell_type": "code",
      "metadata": {
        "id": "CUD5HWsC_-uq",
        "colab_type": "code",
        "colab": {}
      },
      "source": [
        "#for loop\n",
        "pets = ['cats', 'dogs', 'rabbits', 'hamsters']\n",
        "for myPets in pets: #assigns each member in the list to myPets starting with 'cats'\n",
        "  print (myPets)\n",
        "#enumerate function\n",
        "for index, myPets in enumerate(pets): \n",
        "  print (index, myPets)\n",
        "#looping through a string\n",
        "message = 'Hello'\n",
        "for i in message:\n",
        "  print (i) "
      ],
      "execution_count": null,
      "outputs": []
    },
    {
      "cell_type": "code",
      "metadata": {
        "id": "57pwW5N5BXt5",
        "colab_type": "code",
        "colab": {}
      },
      "source": [
        "#range function\n",
        "for i in range(3,14,2):\n",
        "  print (i)"
      ],
      "execution_count": null,
      "outputs": []
    },
    {
      "cell_type": "code",
      "metadata": {
        "id": "OHXgPNU-B2UO",
        "colab_type": "code",
        "colab": {}
      },
      "source": [
        "#while loop\n",
        "counter = 5\n",
        "while counter > 0:\n",
        "  print (\"Counter = \", counter)\n",
        "  counter = counter - 1\n",
        "#break keyword to exit loop\n",
        "j = 0\n",
        "for i in range(5):\n",
        "  j = j + 2\n",
        "  print ('i = ', i, ', j = ', j)\n",
        "  if j == 6:\n",
        "    break\n",
        "#keyword continue used to skip the rest of the loop after it for that iteration\n",
        "j = 0\n",
        "for i in range(5):\n",
        "  j = j + 2\n",
        "  print ('\\ni = ', i, ', j = ', j)\n",
        "  if j == 6:\n",
        "    continue\n",
        "  print ('I will be skipped over if j=6')"
      ],
      "execution_count": null,
      "outputs": []
    },
    {
      "cell_type": "code",
      "metadata": {
        "id": "jwQaQb86Co97",
        "colab_type": "code",
        "colab": {}
      },
      "source": [
        "#try, except\n",
        "try:\n",
        "  userInput1 = int(input(\"Please enter a number: \"))\n",
        "  userInput2 = int(input(\"Please enter another number: \"))\n",
        "  answer =userInput1/userInput2\n",
        "  print (\"The answer is \", answer)\n",
        "  myFile = open(\"missing.txt\", 'r')\n",
        "except ValueError as e: #run if a function receives a parameter that has the right type but an inappropriate value\n",
        "  print (e)\n",
        "except ZeroDivisionError: #runs if a number was divided by 0\n",
        "  print (\"Error: Cannot divide by zero\")\n",
        "except Exception as e:\n",
        "  print (\"Unknown error: \", e)\n",
        "\n",
        "#IOError:\n",
        "#Raised when an I/O operation (such as the built-in open() function) fails for an I/O-related reason, e.g., “file not found”.\n",
        "#ImportError:\n",
        "#Raised when an import statement fails to find the module definition\n",
        "#IndexError:\n",
        "#Raised when a sequence (e.g. string, list, tuple) index is out of range.\n",
        "#KeyError:\n",
        "#Raised when a dictionary key is not found.\n",
        "#NameError:\n",
        "#Raised when a local or global name is not found.\n",
        "#TypeError:\n",
        "#Raised when an operation or function is applied to an object of inappropriate type.\n"
      ],
      "execution_count": null,
      "outputs": []
    },
    {
      "cell_type": "code",
      "metadata": {
        "id": "nyTT3x7VGF3e",
        "colab_type": "code",
        "colab": {}
      },
      "source": [
        "#function that checks if a number is prime\n",
        "def checkIfPrime (numberToCheck):\n",
        "  for x in range(2, numberToCheck): #for each integer from 2 to numberToCheck - 1\n",
        "    if (numberToCheck%x == 0): #check if numberToCheck is divisible by the integer\n",
        "      return False \n",
        "  return True\n",
        "checkIfPrime(1)"
      ],
      "execution_count": null,
      "outputs": []
    },
    {
      "cell_type": "code",
      "metadata": {
        "id": "NghEegSqIdal",
        "colab_type": "code",
        "colab": {}
      },
      "source": [
        "#variable scope\n",
        "message1 = \"Global Variable (shares same name as a local variable)\"\n",
        "def myFunction():\n",
        "  message1 = \"Local Variable (shares same name as a global variable)\"\n",
        "  print(\"\\nINSIDE THE FUNCTION\")\n",
        "  print (message1)\n",
        "\n",
        "myFunction()\n",
        "print (\"\\nOUTSIDE THE FUNCTION\")\n",
        "print (message1)"
      ],
      "execution_count": null,
      "outputs": []
    },
    {
      "cell_type": "code",
      "metadata": {
        "id": "67DOQuCZLnZb",
        "colab_type": "code",
        "colab": {}
      },
      "source": [
        "import sys\n",
        "if 'C:\\MyPythonModules' not in sys.path:\n",
        "  sys.path.append('C:\\MyPythonModules')\n",
        "#The code above appends the folder ‘C:\\MyPythonModules’ to your system path. \n",
        "#sys.path refers to your Python’s system path. This is the list of directories that Python goes through to search for modules and files."
      ],
      "execution_count": null,
      "outputs": []
    },
    {
      "cell_type": "code",
      "metadata": {
        "id": "bkaRLn_lC0wn",
        "colab_type": "code",
        "colab": {
          "base_uri": "https://localhost:8080/",
          "height": 85
        },
        "outputId": "4d1b6d69-7596-4f3b-85e2-b2543a9e6fd9"
      },
      "source": [
        "\n",
        "f = open('myfile.txt', 'r') #opens the file\n",
        "\n",
        "firstline = f.readline() #reads first line from myfile.txt\n",
        "secondline = f.readline() #reads second line from myfile.txt\n",
        "print(firstline)\n",
        "print(secondline)\n",
        "f.close() #closes the file\n",
        "\n",
        "#'r' mode: For reading only.\n",
        "#'w' mode: For writing only.\n",
        "#If the specified file does not exist, it will be created.\n",
        "#If the specified file exists, any existing data on the file will be erased.\n",
        "#'a' mode: For appending.\n",
        "#If the specified file does not exist, it will be created.\n",
        "#If the specified file exist, any data written to the file is automatically added to the end\n",
        "#'r+' mode: For both reading and writing."
      ],
      "execution_count": 13,
      "outputs": [
        {
          "output_type": "stream",
          "text": [
            "\n",
            "\n",
            "This sentence will be appended.\n",
            "\n"
          ],
          "name": "stdout"
        }
      ]
    },
    {
      "cell_type": "code",
      "metadata": {
        "id": "GNBDw9P6C5gg",
        "colab_type": "code",
        "colab": {}
      },
      "source": [
        "f = open ('myfile.txt', 'a')\n",
        "f.write('\\nThis sentence will be appended.')\n",
        "f.write('\\nPython is Fun!')\n",
        "f.close()"
      ],
      "execution_count": 10,
      "outputs": []
    },
    {
      "cell_type": "code",
      "metadata": {
        "id": "s1bJQ-vBXsBq",
        "colab_type": "code",
        "colab": {}
      },
      "source": [
        "f = open ('myfile.txt', 'r')\n",
        "for line in f:\n",
        "  print(line)"
      ],
      "execution_count": null,
      "outputs": []
    },
    {
      "cell_type": "code",
      "metadata": {
        "id": "4CO5YKNgYC29",
        "colab_type": "code",
        "colab": {}
      },
      "source": [
        "inputFile = open ('myfile.txt', 'r')\n",
        "outputFile = open ('myoutputfile.txt', 'w')\n",
        "msg = inputFile.read(10) #reads 10 bytes from inputFile into msg\n",
        "while len(msg): #checks that the length of the msg is not 0\n",
        "  outputFile.write(msg + '\\n') #writes msg to outputFile\n",
        "  msg = inputFile.read(10) #reads next 10 bytes from inputFile into msg\n",
        "\n",
        "outputFile.close()\n",
        "outputFile = open ('myoutputfile.txt', 'r')\n",
        "for line in outputFile:\n",
        "  print(line)\n",
        "inputFile.close()\n",
        "outputFile.close()\n",
        "\n",
        "#binary files\n",
        "#inputFile = open (‘myimage.jpg’, 'rb')\n",
        "#outputFile = open (‘myoutputimage.jpg’, 'wb')"
      ],
      "execution_count": null,
      "outputs": []
    },
    {
      "cell_type": "code",
      "metadata": {
        "id": "fZBP42j3ZryJ",
        "colab_type": "code",
        "colab": {}
      },
      "source": [
        "# counts the number of substrings 's' from index 3 to 10-1\n",
        "print('This is a string'.count('s', 3, 10 ))\n",
        "# check if string 'Postman' from index 2 to 7-1 ends with 'man'\n",
        "print('Postman'.endswith('man', 2, 7))\n",
        "# check if 'Postman' from index 2 to 6-1 ends with 'man' or 'ma'\n",
        "print('Postman'.endswith(('man', 'ma'), 2, 6))"
      ],
      "execution_count": null,
      "outputs": []
    },
    {
      "cell_type": "code",
      "metadata": {
        "id": "LrSwTIMicZUz",
        "colab_type": "code",
        "colab": {
          "base_uri": "https://localhost:8080/",
          "height": 34
        },
        "outputId": "64bd8e87-f22b-4a78-c5a5-2d415f967ba5"
      },
      "source": [
        "#returns the index in the string where the first occurence of substring 's' is found\n",
        "'This is a string'.find('s')"
      ],
      "execution_count": 23,
      "outputs": [
        {
          "output_type": "execute_result",
          "data": {
            "text/plain": [
              "3"
            ]
          },
          "metadata": {
            "tags": []
          },
          "execution_count": 23
        }
      ]
    },
    {
      "cell_type": "code",
      "metadata": {
        "id": "OWEHhayQfn2w",
        "colab_type": "code",
        "colab": {}
      },
      "source": [
        "#isalnum() returns true if all characters in the string are alphanumeric and there is at least one character, false otherwise.\n",
        "print('abcd1234'.isalnum())\n",
        "print('a b cd1234'.isalnum())\n",
        "#isalpha() returns true if all characters in the string are alphabetic and there is at least one character, false otherwise.\n",
        "print('abcd1234'.isalpha())\n",
        "print('abcd'.isalpha())\n",
        "#islower() returns true if all cased characters in the string are lowercase and there is at least one cased character, false otherwise.\n",
        "print('ab cd1234'.islower())\n",
        "print('aBcd'.islower())\n",
        "#isspace() returns true if there are only whitespace characters in the string and there is at least one character, false otherwise.\n",
        "print(' '.isspace())\n",
        "print('a  b'.isspace())"
      ],
      "execution_count": null,
      "outputs": []
    },
    {
      "cell_type": "code",
      "metadata": {
        "id": "6EgbmU49gZ5V",
        "colab_type": "code",
        "colab": {
          "base_uri": "https://localhost:8080/",
          "height": 51
        },
        "outputId": "1ed8afe0-f433-48f1-ea78-230533481827"
      },
      "source": [
        "#istitle() returns true if the string is a titlecased string and there is at least one character\n",
        "print('This Is A String'.istitle())\n",
        "print('This is A String'.istitle())"
      ],
      "execution_count": 28,
      "outputs": [
        {
          "output_type": "stream",
          "text": [
            "True\n",
            "False\n"
          ],
          "name": "stdout"
        }
      ]
    },
    {
      "cell_type": "code",
      "metadata": {
        "id": "_RkeDP5Whsmc",
        "colab_type": "code",
        "colab": {
          "base_uri": "https://localhost:8080/",
          "height": 85
        },
        "outputId": "13b5da67-17c8-40f3-d7af-2818b6bb1901"
      },
      "source": [
        "#join() returns a string in which the parameter provided is joined by a separator.\n",
        "sep = '-'\n",
        "myTuple = ('a', 'b', 'c')\n",
        "myList = ['d', 'e', 'f']\n",
        "myString = 'Hello World'\n",
        "print(sep.join(myTuple))\n",
        "print(sep.join(myList))\n",
        "print(sep.join(myString))\n",
        "\n",
        "#lower() returns a copy of the string converted to lowercase.\n",
        "print('Hello Python'.lower())"
      ],
      "execution_count": 30,
      "outputs": [
        {
          "output_type": "stream",
          "text": [
            "a-b-c\n",
            "d-e-f\n",
            "H-e-l-l-o- -W-o-r-l-d\n",
            "hello python\n"
          ],
          "name": "stdout"
        }
      ]
    },
    {
      "cell_type": "code",
      "metadata": {
        "id": "R0cyockdiTen",
        "colab_type": "code",
        "colab": {
          "base_uri": "https://localhost:8080/",
          "height": 35
        },
        "outputId": "f9013216-daf9-4e4c-dc60-8e1b38034f9a"
      },
      "source": [
        "#replace(old, new[, count]) returns a copy of the string with all occurrences of substring old replaced by new.\n",
        "'This is a string'.replace('s', 'p')"
      ],
      "execution_count": 31,
      "outputs": [
        {
          "output_type": "execute_result",
          "data": {
            "application/vnd.google.colaboratory.intrinsic+json": {
              "type": "string"
            },
            "text/plain": [
              "'Thip ip a ptring'"
            ]
          },
          "metadata": {
            "tags": []
          },
          "execution_count": 31
        }
      ]
    },
    {
      "cell_type": "code",
      "metadata": {
        "id": "iZiEi_bPiycT",
        "colab_type": "code",
        "colab": {
          "base_uri": "https://localhost:8080/",
          "height": 51
        },
        "outputId": "2d8b2e3b-5914-4b96-ad18-e60652796477"
      },
      "source": [
        "print('This is a string'.split()) #split using whitespace as delimiter\n",
        "print('This, is, a, string'.split(',', 2)) #split string using ',' as delimiter, only 2 splits"
      ],
      "execution_count": 32,
      "outputs": [
        {
          "output_type": "stream",
          "text": [
            "['This', 'is', 'a', 'string']\n",
            "['This', ' is', ' a, string']\n"
          ],
          "name": "stdout"
        }
      ]
    },
    {
      "cell_type": "code",
      "metadata": {
        "id": "3xYEfHk2kVtg",
        "colab_type": "code",
        "colab": {}
      },
      "source": [
        "# Split lines separated by \\n\n",
        "print('This is the first line.\\nThis is the second line'.splitlines())\n",
        "# Split multi line string and keep line breaks\n",
        "'''This is the first line.\n",
        "This is the second line.'''.splitlines(True)"
      ],
      "execution_count": null,
      "outputs": []
    },
    {
      "cell_type": "code",
      "metadata": {
        "id": "wBeNpMumlXL6",
        "colab_type": "code",
        "colab": {}
      },
      "source": [
        "#startswith (prefix[, start[, end]]) Return True if string starts with the prefix, otherwise return False.\n",
        "#prefix can also be a tuple of prefixes to look for. This function is case-sensitive\n",
        "'Postman'.startswith('Post')"
      ],
      "execution_count": null,
      "outputs": []
    },
    {
      "cell_type": "code",
      "metadata": {
        "id": "Pxi0sc6wl6dE",
        "colab_type": "code",
        "colab": {}
      },
      "source": [
        "print('This is a string'.strip('g')) #remove first and last character if it is a 'g'\n",
        "print('This is a string'.strip('s')) #remove first and last character if it is a 's'\n",
        "print(' This is a string '.strip())  #remove first and last character if it is a ' '"
      ],
      "execution_count": null,
      "outputs": []
    },
    {
      "cell_type": "code",
      "metadata": {
        "id": "AQXLg2fBmkT7",
        "colab_type": "code",
        "colab": {}
      },
      "source": [
        "#combine two lists\n",
        "myList = ['a', 'b', 'c', 'd', 'e']\n",
        "myList2 = [1, 2, 3, 4]\n",
        "myList.extend(myList2)\n",
        "print (myList)\n",
        "\n",
        "#check if an item is in a list\n",
        "myList = ['a', 'b', 'c', 'd']\n",
        "print('c' in myList)\n",
        "\n",
        "#add item to a list at a particular location\n",
        "myList = ['a', 'b', 'c', 'd', 'e']\n",
        "myList.insert(1, 'Hi')\n",
        "print(myList)"
      ],
      "execution_count": null,
      "outputs": []
    },
    {
      "cell_type": "code",
      "metadata": {
        "id": "5YYT_pEZnQWv",
        "colab_type": "code",
        "colab": {}
      },
      "source": [
        "myList = ['a', 'b', 'c', 'd', 'e']\n",
        "#pop( ) gets the value of an item and remove it from the list\n",
        "member = myList.pop(2)\n",
        "print(member)\n",
        "print(myList)\n",
        "\n",
        "#remove( ) removes an item from a list. Requires the value of the item as the parameter.\n",
        "myList = ['a', 'b', 'c', 'd', 'e']\n",
        "myList.remove('c')\n",
        "print(myList)\n",
        "\n",
        "#revere the items in a list\n",
        "myList = [1, 2, 3, 4]\n",
        "myList.reverse()\n",
        "print(myList)\n",
        "\n",
        "#sort a list alphabetically or numerically\n",
        "myList = [3, 0, -1, 4, 6]\n",
        "myList.sort()\n",
        "print(myList)"
      ],
      "execution_count": null,
      "outputs": []
    },
    {
      "cell_type": "code",
      "metadata": {
        "id": "zFnscVFLr4W8",
        "colab_type": "code",
        "colab": {}
      },
      "source": [
        "myList = [3, 0, -1, 4, 6]\n",
        "myList2 = sorted(myList)\n",
        "print(myList) #original list is not sorted\n",
        "print(myList2) #new list is sorted\n",
        "\n",
        "#Duplicate a list and concatenate it to the end of the list\n",
        "print(myList*3)"
      ],
      "execution_count": null,
      "outputs": []
    },
    {
      "cell_type": "code",
      "metadata": {
        "id": "vvfQKdlhuMP5",
        "colab_type": "code",
        "colab": {}
      },
      "source": [
        "#dictionaries\n",
        "\n",
        "dic1 = {1: 'one', 2: 'two'}\n",
        "print (dic1)\n",
        "#removes all elements of the dictionary, returning an empty dictionary\n",
        "dic1.clear()\n",
        "print(dic1)\n",
        "\n",
        "#delete the entire dictionary\n",
        "del dic1\n",
        "\n",
        "#get() returns a value for a given key\n",
        "dic1 = {1: 'one', 2: 'two'}\n",
        "print (dic1.get(1))\n",
        "print(dic1.get(5, \"Not Found\"))\n",
        "\n",
        "#items( ) Returns a list of dictionary’s pairs as tuples\n",
        "print(dic1.items())\n",
        "\n",
        "#keys( ) Returns list of the dictionary's keys\n",
        "print(dic1.keys())\n",
        "\n",
        "#update( )Adds one dictionary’s key-values pairs to another. Duplicates are removed.\n",
        "dic1 = {1: 'one', 2: 'two'}\n",
        "dic2 = {1: 'one', 3: 'three'}\n",
        "dic1.update(dic2)\n",
        "print (dic1)\n",
        "\n",
        "#values() Returns list of the dictionary's values\n",
        "dic1.values()"
      ],
      "execution_count": null,
      "outputs": []
    }
  ]
}